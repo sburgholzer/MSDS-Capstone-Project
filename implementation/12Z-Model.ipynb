{
 "cells": [
  {
   "cell_type": "code",
   "execution_count": null,
   "metadata": {},
   "outputs": [],
   "source": [
    "import numpy as np\n",
    "import pandas as pd\n",
    "from sklearn.model_selection import train_test_split\n",
    "from sklearn.preprocessing import StandardScaler\n",
    "import tensorflow as tf\n",
    "from tensorflow import keras\n",
    "#tf.keras.wrappers.skikit_learn.KerasClassifier\n",
    "from sklearn.model_selection import GridSearchCV\n",
    "from sklearn.datasets import make_classification\n",
    "from sklearn.metrics import confusion_matrix\n",
    "\n",
    "import seaborn as sns\n",
    "import matplotlib.pyplot as plt\n",
    "%matplotlib inline\n",
    "\n",
    "# Set random seed\n",
    "np.random.seed(0)"
   ]
  },
  {
   "cell_type": "code",
   "execution_count": null,
   "metadata": {},
   "outputs": [],
   "source": [
    "data = pd.read_csv(r'D:\\MSDS-Capstone-Project\\implementation\\12Z.csv')\n",
    "data['Date'] = pd.to_datetime(data['Date'])\n",
    "data = data.sort_values(by='Date')\n",
    "data.set_index('Date', inplace=True)\n",
    "del data['lifted index (500-100mb)']"
   ]
  },
  {
   "cell_type": "code",
   "execution_count": null,
   "metadata": {},
   "outputs": [],
   "source": [
    "data.head()"
   ]
  },
  {
   "cell_type": "code",
   "execution_count": null,
   "metadata": {},
   "outputs": [],
   "source": [
    "tor_count = pd.read_csv(r'D:\\MSDS-Capstone-Project\\implementation\\tornadoCounts.csv', index_col=1)\n",
    "tor_count = tor_count.loc[:, ~tor_count.columns.str.contains('^Unnamed')]\n",
    "tor_count.index = pd.to_datetime(tor_count.index)\n",
    "#tor_count['date'] = pd.to_datetime(tor_count['date'])\n",
    "#tor_count = tor_count.sort_values(by='date')\n",
    "#tor_count.set_index('date', inplace=True)"
   ]
  },
  {
   "cell_type": "code",
   "execution_count": null,
   "metadata": {},
   "outputs": [],
   "source": [
    "tor_count.head()"
   ]
  },
  {
   "cell_type": "code",
   "execution_count": null,
   "metadata": {},
   "outputs": [],
   "source": [
    "tor_count.rename(columns={'count':'COUNT'}, inplace=True)\n",
    "tor_count.loc[tor_count.COUNT < 5, 'countBinary'] = 0\n",
    "tor_count.loc[tor_count.COUNT >= 5, 'countBinary'] = 1\n",
    "tor_count.countBinary = tor_count.countBinary.astype(int)\n",
    "tor_count.tail(20)"
   ]
  },
  {
   "cell_type": "code",
   "execution_count": null,
   "metadata": {},
   "outputs": [],
   "source": [
    "merge=pd.merge(data,tor_count, how='inner', left_index=True, right_index=True)\n",
    "merge = merge.sample(frac=1)\n",
    "merge.tail(20)"
   ]
  },
  {
   "cell_type": "code",
   "execution_count": null,
   "metadata": {},
   "outputs": [],
   "source": [
    "merge.head()"
   ]
  },
  {
   "cell_type": "code",
   "execution_count": null,
   "metadata": {},
   "outputs": [],
   "source": [
    "merge.tail()"
   ]
  },
  {
   "cell_type": "code",
   "execution_count": null,
   "metadata": {},
   "outputs": [],
   "source": [
    "tor_count.tail()"
   ]
  },
  {
   "cell_type": "code",
   "execution_count": null,
   "metadata": {},
   "outputs": [],
   "source": [
    "#sns.pairplot(merge, hue='Count')"
   ]
  },
  {
   "cell_type": "code",
   "execution_count": null,
   "metadata": {},
   "outputs": [],
   "source": [
    "#sns.heatmap(merge.corr(), annot=True)"
   ]
  },
  {
   "cell_type": "code",
   "execution_count": null,
   "metadata": {},
   "outputs": [],
   "source": [
    "# creating input featues and target variables\n",
    "X = merge.iloc[:,0:26]\n",
    "y = merge.iloc[:,27]"
   ]
  },
  {
   "cell_type": "code",
   "execution_count": null,
   "metadata": {},
   "outputs": [],
   "source": [
    "X.tail(20)"
   ]
  },
  {
   "cell_type": "code",
   "execution_count": null,
   "metadata": {},
   "outputs": [],
   "source": [
    "y.tail(20)"
   ]
  },
  {
   "cell_type": "code",
   "execution_count": null,
   "metadata": {},
   "outputs": [],
   "source": [
    "X_train, X_test, y_train, y_test = train_test_split(X, y, test_size=0.3)"
   ]
  },
  {
   "cell_type": "code",
   "execution_count": null,
   "metadata": {},
   "outputs": [],
   "source": [
    "scaler = StandardScaler().fit(X_train)\n",
    "X_Train = scaler.transform(X_train)\n",
    "X_test = scaler.transform(X_test)"
   ]
  },
  {
   "cell_type": "code",
   "execution_count": null,
   "metadata": {},
   "outputs": [],
   "source": [
    "model2 = keras.Sequential()\n",
    "model2.add(keras.layers.Dense(26, activation='relu', input_shape=(26,)))\n",
    "model2.add(keras.layers.Dense(23, activation='relu'))\n",
    "model2.add(keras.layers.Dense(20, activation='relu'))\n",
    "#model.add(keras.layers.Dropout(0.2))\n",
    "#model.add(keras.layers.Dense(17, activation='relu'))\n",
    "#model.add(keras.layers.Dense(14, activation='relu'))\n",
    "#model.add(keras.layers.Dropout(0.2))\n",
    "#model.add(keras.layers.Dense(13, activation='relu'))\n",
    "#model.add(keras.layers.Dense(10, activation='relu'))\n",
    "#model.add(keras.layers.Dropout(0.2))\n",
    "#model.add(keras.layers.Dense(7, activation='relu'))\n",
    "#model.add(keras.layers.Dense(4, activation='relu'))\n",
    "#model.add(keras.layers.Dropout(0.2))\n",
    "model2.add(keras.layers.Dense(1, activation='sigmoid'))\n",
    "model2.compile(loss='binary_crossentropy', optimizer='adam', metrics=['accuracy'])\n",
    "\n",
    "model2.fit(X_train, y_train, validation_split=0.1, epochs=40, batch_size=10)\n",
    "eval_model=model2.evaluate(X_train, y_train)\n",
    "print(eval_model)\n",
    "y_pred = model2.predict(X_test)\n",
    "y_pred =(y_pred>0.5)\n",
    "cm = confusion_matrix(y_test, y_pred)\n",
    "print(cm)\n",
    "\n",
    "\n",
    "#score = model2.evaluate(X_test, y_test,verbose=1)\n",
    "#print(score)"
   ]
  },
  {
   "cell_type": "code",
   "execution_count": null,
   "metadata": {},
   "outputs": [],
   "source": [
    "model.save(r'D:\\MSDS-Capstone-Project\\implementation\\savedModels\\12ZinitialModel.h5')"
   ]
  },
  {
   "cell_type": "code",
   "execution_count": null,
   "metadata": {},
   "outputs": [],
   "source": [
    "# Tune the batch size and number of epochs\n",
    "def create_model():\n",
    "    model = keras.Sequential()\n",
    "    model.add(keras.layers.Dense(26, activation='relu', input_shape=(26,)))\n",
    "    model.add(keras.layers.Dense(23, activation='relu'))\n",
    "    model.add(keras.layers.Dense(20, activation='relu'))\n",
    "    #model.add(keras.layers.Dropout(0.2))\n",
    "    #model.add(keras.layers.Dense(17, activation='relu'))\n",
    "    #model.add(keras.layers.Dense(14, activation='relu'))\n",
    "    #model.add(keras.layers.Dropout(0.2))\n",
    "    #model.add(keras.layers.Dense(13, activation='relu'))\n",
    "    #model.add(keras.layers.Dense(10, activation='relu'))\n",
    "    #model.add(keras.layers.Dropout(0.2))\n",
    "    #model.add(keras.layers.Dense(7, activation='relu'))\n",
    "    #model.add(keras.layers.Dense(4, activation='relu'))\n",
    "    #model.add(keras.layers.Dropout(0.2))\n",
    "    model.add(keras.layers.Dense(1, activation='sigmoid'))\n",
    "    model.compile(loss='binary_crossentropy', optimizer='adam', metrics=['accuracy'])\n",
    "    return model\n",
    "\n",
    "model = tf.keras.wrappers.scikit_learn.KerasClassifier(build_fn=create_model, verbose=0)\n",
    "\n",
    "batch_size = [20, 40, 60, 80, 100]\n",
    "epochs = [20, 40, 60, 80, 100]\n",
    "param_grid = dict(batch_size=batch_size, epochs=epochs)\n",
    "\n",
    "grid = GridSearchCV(estimator=model, param_grid=param_grid, n_jobs=-1, cv=3)\n",
    "grid_result = grid.fit(X_train, y_train)\n",
    "\n",
    "print(\"Best: %f using %s\" % (grid_result.best_score_, grid_result.best_params_))\n",
    "means = grid_result.cv_results_['mean_test_score']\n",
    "stds = grid_result.cv_results_['std_test_score']\n",
    "params = grid_result.cv_results_['params']\n",
    "for mean, stdev, param in zip(means, stds, params):\n",
    "    print(\"%f (%f) with: %r\" % (mean, stdev, param))"
   ]
  },
  {
   "cell_type": "code",
   "execution_count": null,
   "metadata": {},
   "outputs": [],
   "source": [
    "# use the best batch and epochs found by hypertuning\n",
    "model3 = keras.Sequential()\n",
    "model3.add(keras.layers.Dense(26, activation='relu', input_shape=(26,)))\n",
    "model3.add(keras.layers.Dense(23, activation='relu'))\n",
    "model3.add(keras.layers.Dense(20, activation='relu'))\n",
    "model3.add(keras.layers.Dense(1, activation='sigmoid'))\n",
    "model3.compile(loss='binary_crossentropy', optimizer='adam', metrics=['accuracy'])\n",
    "\n",
    "model3.fit(X_train, y_train, validation_split=0.1, epochs=100, batch_size=40)\n",
    "eval_model=model3.evaluate(X_train, y_train)\n",
    "print(eval_model)\n",
    "y_pred = model3.predict(X_test)\n",
    "y_pred =(y_pred>0.5)\n",
    "cm = confusion_matrix(y_test, y_pred)\n",
    "print(cm)"
   ]
  },
  {
   "cell_type": "code",
   "execution_count": null,
   "metadata": {},
   "outputs": [],
   "source": [
    "def create_model(optimizer='adam'):\n",
    "    model = keras.Sequential()\n",
    "    model.add(keras.layers.Dense(26, activation='relu', input_shape=(26,)))\n",
    "    model.add(keras.layers.Dense(23, activation='relu'))\n",
    "    model.add(keras.layers.Dense(20, activation='relu'))\n",
    "    model.add(keras.layers.Dense(1, activation='sigmoid'))\n",
    "    model.compile(loss='binary_crossentropy', optimizer='adam', metrics=['accuracy'])\n",
    "    return model\n",
    "\n",
    "model = tf.keras.wrappers.scikit_learn.KerasClassifier(build_fn=create_model, epochs=100, batch_size=40, verbose=0)\n",
    "\n",
    "optimizer = ['SGD', 'RMSprop', 'Adagrad', 'Adadelta', 'Adam', 'Adamax', 'Nadam']\n",
    "param_grid = dict(optimizer=optimizer)\n",
    "\n",
    "grid = GridSearchCV(estimator=model, param_grid=param_grid, n_jobs=-1, cv=3)\n",
    "grid_result = grid.fit(X_train, y_train)\n",
    "\n",
    "print(\"Best: %f using %s\" % (grid_result.best_score_, grid_result.best_params_))\n",
    "means = grid_result.cv_results_['mean_test_score']\n",
    "stds = grid_result.cv_results_['std_test_score']\n",
    "params = grid_result.cv_results_['params']\n",
    "for mean, stdev, param in zip(means, stds, params):\n",
    "    print(\"%f (%f) with: %r\" % (mean, stdev, param))\n",
    "\n"
   ]
  },
  {
   "cell_type": "code",
   "execution_count": null,
   "metadata": {},
   "outputs": [],
   "source": [
    "# use the best batch and epochs found by hypertuning and the Adamax optimizer\n",
    "model4 = keras.Sequential()\n",
    "model4.add(keras.layers.Dense(26, activation='relu', input_shape=(26,)))\n",
    "model4.add(keras.layers.Dense(23, activation='relu'))\n",
    "model4.add(keras.layers.Dense(20, activation='relu'))\n",
    "model4.add(keras.layers.Dense(1, activation='sigmoid'))\n",
    "model4.compile(loss='binary_crossentropy', optimizer='Adamax', metrics=['accuracy'])\n",
    "\n",
    "model4.fit(X_train, y_train, epochs=100, batch_size=40)\n",
    "eval_model=model4.evaluate(X_train, y_train)\n",
    "print(eval_model)\n",
    "y_pred = model4.predict(X_test)\n",
    "y_pred =(y_pred>0.5)\n",
    "cm = confusion_matrix(y_test, y_pred)\n",
    "print(cm)"
   ]
  },
  {
   "cell_type": "code",
   "execution_count": null,
   "metadata": {},
   "outputs": [],
   "source": [
    "# tune the learning rate and beta\n",
    "def create_model(learn_rate=0.01, beta_1=0.0, beta_2=0.0):\n",
    "    model = keras.Sequential()\n",
    "    model.add(keras.layers.Dense(26, activation='relu', input_shape=(26,)))\n",
    "    model.add(keras.layers.Dense(23, activation='relu'))\n",
    "    model.add(keras.layers.Dense(20, activation='relu'))\n",
    "    model.add(keras.layers.Dense(1, activation='sigmoid'))\n",
    "    optimizer = tf.optimizers.Adamax(lr=learn_rate, beta_1 = beta_1, beta_2 = beta_2)\n",
    "    model.compile(loss='binary_crossentropy', optimizer=optimizer, metrics=['accuracy'])\n",
    "    return model\n",
    "\n",
    "model = tf.keras.wrappers.scikit_learn.KerasClassifier(build_fn=create_model, epochs=100, batch_size=40, verbose=0)\n",
    "\n",
    "learn_rate = [0.001, 0.01, 0.1, 0.2, 0.3]\n",
    "beta_1 = [0.0, 0.001, 0.01, 0.1, 0.2, 0.3, 0.4, 0.5, 0.6, 0.7, 0.8, 0.9, 1.0]\n",
    "beta_2 = [0.0, 0.001, 0.01, 0.1, 0.2, 0.3, 0.4, 0.5, 0.6, 0.7, 0.8, 0.9, 1.0]\n",
    "param_grid = dict(learn_rate=learn_rate, beta_1=beta_1, beta_2=beta_2)\n",
    "\n",
    "grid = GridSearchCV(estimator=model, param_grid=param_grid, n_jobs=-1, cv=3)\n",
    "grid_result = grid.fit(X_train, y_train)\n",
    "\n",
    "print(\"Best: %f using %s\" % (grid_result.best_score_, grid_result.best_params_))\n",
    "means = grid_result.cv_results_['mean_test_score']\n",
    "stds = grid_result.cv_results_['std_test_score']\n",
    "params = grid_result.cv_results_['params']\n",
    "for mean, stdev, param in zip(means, stds, params):\n",
    "    print(\"%f (%f) with: %r\" % (mean, stdev, param))\n"
   ]
  },
  {
   "cell_type": "code",
   "execution_count": null,
   "metadata": {},
   "outputs": [],
   "source": [
    "#epochs = 60\n",
    "#learning_rate = 0.1\n",
    "#decay_rate = learning_rate / epochs\n",
    "#momentum = 0.8\n",
    "#opt = keras.optimizers.SGD(lr=learning_rate, momentum=momentum, decay=decay_rate)\n",
    "#model.compile(loss='binary_crossentropy', optimizer=opt, metrics=['accuracy'])\n",
    "\n",
    "def single_hidden_model(neurons=1):\n",
    "    model = keras.Sequential()\n",
    "    model.add(keras.layers.Dense(neurons, input_dim=26, kernel_initializer='uniform', activation='relu'))\n",
    "    model.add(keras.layers.Dropout(0.2))\n",
    "    model.add(keras.layers.Dense(1, kernel_initializer='uniform', activation='sigmoid'))\n",
    "    model.compile(loss='binary_crossentropy', optimizer='adam', metrics=['accuracy'])\n",
    "    return model\n",
    "\n",
    "model = tf.keras.wrappers.scikit_learn.KerasClassifier(build_fn=single_hidden_model, epochs=100, batch_size=20, verbose=0)\n",
    "neurons = [1, 5, 10, 15, 20, 25, 26, 30, 34, 40, 45, 50, 55, 60, 65]\n",
    "param_grid = dict(neurons=neurons)\n",
    "grid = GridSearchCV(estimator=model, param_grid=param_grid, n_jobs=6, cv=3)\n",
    "grid_result = grid.fit(X_train, y_train)\n",
    "\n",
    "print(\"Best: %f using %s\" % (grid_result.best_score_, grid_result.best_params_))\n",
    "means = grid_result.cv_results_['mean_test_score']\n",
    "stds = grid_result.cv_results_['std_test_score']\n",
    "params = grid_result.cv_results_['params']\n",
    "for mean, stdev, param in zip(means, stds, params):\n",
    "    print(\"%f (%f) with: %r\" % (mean, stdev, param))\n",
    "\n",
    "# Tune the training optimization algotrithm\n",
    "#model = tf.keras.wrappers.scikit_learn.KerasClassifier(build_fn=create_model, epochs=100, batch_size=10, verbose=0)\n",
    "#optimizer = ['SGD', 'RMSprop', 'Adagrad', 'Adadelta', 'Adam', 'Adamax', 'Nadam']\n",
    "#param_grid = dict(optimizer=optimizer)\n",
    "#grid = GridSearchCV(estimator=model, param_grid=param_grid, n_jobs=6, cv=3)\n",
    "#grid_result = grid.fit(X_train,y_train)\n",
    "#print(\"Best: %f using %s\" % (grid_result.best_score_, grid_result.best_params_))\n",
    "#means = grid_result.cv_results_['mean_test_score']\n",
    "#stds = grid_result.cv_results_['std_test_score']\n",
    "#params = grid_result.cv_results_['params']\n",
    "#for mean, stdev, param in zip(means, stds, params):\n",
    "#    print(\"%f (%f) with: %r\" % (mean, stdev, param))\n",
    "\n",
    "\n",
    "\n",
    "#model = tf.keras.wrappers.scikit_learn.KerasClassifier(build_fn=create_model)\n",
    "#batch_size = [10, 20, 40, 60, 80, 100]\n",
    "#epochs = [10, 50, 100]\n",
    "#optimizer = ['SGD', 'RMSprop', 'Adagrad', 'Adadelta', 'Adam', 'Adamax', 'Nadam']\n",
    "#param_grid = dict(batch_size=batch_size, epochs=epochs, optimizer=optimizer)\n",
    "#grid = GridSearchCV(estimator=model, param_grid=param_grid, n_jobs=6, cv=3)\n",
    "#grid_result = grid.fit(X, y)\n",
    "\n",
    "#print(\"Best: %f using %s\" % (grid_result.best_score_, grid_result.best_params_))\n",
    "#means = grid_result.cv_results_['mean_test_score']\n",
    "#stds = grid_result.cv_results_['std_test_score']\n",
    "#params = grid_result.cv_results_['params']\n",
    "#for mean, stdev, param in zip(means, stds, params):\n",
    "#    print(\"%f (%f) with: %r\" % (mean, stdev, param))\n"
   ]
  },
  {
   "cell_type": "code",
   "execution_count": null,
   "metadata": {},
   "outputs": [],
   "source": []
  },
  {
   "cell_type": "code",
   "execution_count": null,
   "metadata": {},
   "outputs": [],
   "source": []
  },
  {
   "cell_type": "code",
   "execution_count": null,
   "metadata": {},
   "outputs": [],
   "source": []
  },
  {
   "cell_type": "code",
   "execution_count": null,
   "metadata": {},
   "outputs": [],
   "source": []
  },
  {
   "cell_type": "code",
   "execution_count": null,
   "metadata": {},
   "outputs": [],
   "source": []
  }
 ],
 "metadata": {
  "kernelspec": {
   "display_name": "Python 3",
   "language": "python",
   "name": "python3"
  },
  "language_info": {
   "codemirror_mode": {
    "name": "ipython",
    "version": 3
   },
   "file_extension": ".py",
   "mimetype": "text/x-python",
   "name": "python",
   "nbconvert_exporter": "python",
   "pygments_lexer": "ipython3",
   "version": "3.7.3"
  }
 },
 "nbformat": 4,
 "nbformat_minor": 2
}
