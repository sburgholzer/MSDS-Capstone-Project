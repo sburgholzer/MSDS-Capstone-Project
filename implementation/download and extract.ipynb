{
 "cells": [
  {
   "cell_type": "code",
   "execution_count": 1,
   "metadata": {},
   "outputs": [],
   "source": [
    "import os, sys, requests, tarfile, re, time"
   ]
  },
  {
   "cell_type": "code",
   "execution_count": 2,
   "metadata": {},
   "outputs": [],
   "source": [
    "def check_file_status(filepath, filesize):\n",
    "    sys.stdout.write('\\r')\n",
    "    sys.stdout.flush()\n",
    "    size = int(os.stat(filepath).st_size)\n",
    "    percent_complete = (size/filesize)*100\n",
    "    sys.stdout.write('%.3f %s' % (percent_complete, '% Completed'))\n",
    "    sys.stdout.flush()\n",
    "\n",
    "with open('/media/sf_D_DRIVE/rdaPass.txt', 'r') as file:\n",
    "    pswd = file.read().replace('\\n', '')\n",
    "\n",
    "url = 'https://rda.ucar.edu/cgi-bin/login'\n",
    "values = {'email' : 'scottaburgholzer@lewisu.edu', 'passwd' : pswd, 'action' : 'login'}\n",
    "# Authenticate\n",
    "ret = requests.post(url,data=values)\n",
    "if ret.status_code != 200:\n",
    "    print('Bad Authentication')\n",
    "    print(ret.text)\n",
    "    exit(1)"
   ]
  },
  {
   "cell_type": "code",
   "execution_count": 3,
   "metadata": {},
   "outputs": [],
   "source": [
    "def getData(dspath, filelist):\n",
    "    for file in filelist:\n",
    "        \n",
    "        # Download the file\n",
    "        filename=dspath+file\n",
    "        file_base = os.path.basename(file)\n",
    "        \n",
    "        print('Downloading',file_base)\n",
    "        req = requests.get(filename, cookies = ret.cookies, allow_redirects=True, stream=True)\n",
    "        filesize = int(req.headers['Content-length'])\n",
    "        with open(file_base, 'wb') as outfile:\n",
    "            chunk_size=1048576\n",
    "            for chunk in req.iter_content(chunk_size=chunk_size):\n",
    "                outfile.write(chunk)\n",
    "                if chunk_size < filesize:\n",
    "                    check_file_status(file_base, filesize)\n",
    "        check_file_status(file_base, filesize)\n",
    "        \n",
    "        # extract the file\n",
    "        tf = tarfile.open(file_base)\n",
    "        tf.extractall()\n",
    "        tf.close()\n",
    "        \n",
    "        # wait 15 seconds\n",
    "        time.sleep(15)\n",
    "        \n",
    "        print(\"Extracting Data....\")\n",
    "        # get the 12Z file only\n",
    "        fileSplit = file_base.split(\".\") \n",
    "        gribName = fileSplit[0] + \".\" + fileSplit[1] + \"12\"\n",
    "        \n",
    "        # delete all files not needed\n",
    "        gribFiles = [f for f in os.listdir('/media/sf_D_DRIVE/MSDS-Capstone-Project/notebooks') if re.match(r'merged_AWIP.*',f)]\n",
    "        for file in gribFiles:\n",
    "            if file != gribName:\n",
    "                os.remove(\"/media/sf_D_DRIVE/MSDS-Capstone-Project/notebooks/\" + file)\n",
    "        \n",
    "        # Create the CTL file\n",
    "        os.system('perl /media/sf_D_DRIVE/MSDS-Capstone-Project/notebooks/grib2ctl.pl -verf /media/sf_D_DRIVE/MSDS-Capstone-Project/notebooks/' + gribName + '>' + gribName + '.ctl')\n",
    "        # Create the IDX file\n",
    "        os.system('gribmap -v -i ' + gribName + '.ctl')\n",
    "        \n",
    "        # run the GrADS script\n",
    "        os.system('grads -bxcl \"run /media/sf_D_DRIVE/MSDS-Capstone-Project/notebooks/gradsScripts/arealAverages.gs /media/sf_D_DRIVE/MSDS-Capstone-Project/notebooks/' + gribName + '.ctl\"')\n",
    "        print()"
   ]
  },
  {
   "cell_type": "code",
   "execution_count": null,
   "metadata": {},
   "outputs": [
    {
     "name": "stdout",
     "output_type": "stream",
     "text": [
      "Downloading merged_AWIP32.19790101.tar\n",
      "100.000 % CompletedExtracting Data....\n",
      "\n",
      "Downloading merged_AWIP32.19790102.tar\n",
      "100.000 % Completed"
     ]
    }
   ],
   "source": [
    "dspath = 'https://rda.ucar.edu/dsrqst/BURGHOLZER395399/'\n",
    "filelist = [\n",
    "'merged_AWIP32.19790101.tar',\n",
    "]\n",
    "\n",
    "getData(dspath, filelist)"
   ]
  },
  {
   "cell_type": "code",
   "execution_count": 2,
   "metadata": {},
   "outputs": [
    {
     "data": {
      "text/plain": [
       "0"
      ]
     },
     "execution_count": 2,
     "metadata": {},
     "output_type": "execute_result"
    }
   ],
   "source": [
    "#"
   ]
  },
  {
   "cell_type": "code",
   "execution_count": 24,
   "metadata": {},
   "outputs": [
    {
     "ename": "NameError",
     "evalue": "name 'gribName' is not defined",
     "output_type": "error",
     "traceback": [
      "\u001b[0;31m---------------------------------------------------------------------------\u001b[0m",
      "\u001b[0;31mNameError\u001b[0m                                 Traceback (most recent call last)",
      "\u001b[0;32m<ipython-input-24-73f171aebdae>\u001b[0m in \u001b[0;36m<module>\u001b[0;34m\u001b[0m\n\u001b[0;32m----> 1\u001b[0;31m \u001b[0mprint\u001b[0m\u001b[0;34m(\u001b[0m\u001b[0;34m'gribmap -v -i '\u001b[0m \u001b[0;34m+\u001b[0m \u001b[0mgribName\u001b[0m \u001b[0;34m+\u001b[0m \u001b[0;34m'.ctl'\u001b[0m\u001b[0;34m)\u001b[0m\u001b[0;34m\u001b[0m\u001b[0;34m\u001b[0m\u001b[0m\n\u001b[0m",
      "\u001b[0;31mNameError\u001b[0m: name 'gribName' is not defined"
     ]
    }
   ],
   "source": [
    "print('gribmap -v -i ' + gribName + '.ctl')"
   ]
  },
  {
   "cell_type": "code",
   "execution_count": null,
   "metadata": {},
   "outputs": [],
   "source": []
  }
 ],
 "metadata": {
  "kernelspec": {
   "display_name": "Python 3",
   "language": "python",
   "name": "python3"
  },
  "language_info": {
   "codemirror_mode": {
    "name": "ipython",
    "version": 3
   },
   "file_extension": ".py",
   "mimetype": "text/x-python",
   "name": "python",
   "nbconvert_exporter": "python",
   "pygments_lexer": "ipython3",
   "version": "3.7.3"
  }
 },
 "nbformat": 4,
 "nbformat_minor": 2
}
